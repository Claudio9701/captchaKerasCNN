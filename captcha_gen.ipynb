{
 "cells": [
  {
   "cell_type": "code",
   "execution_count": 8,
   "metadata": {},
   "outputs": [],
   "source": [
    "from captcha.image import ImageCaptcha\n",
    "from PIL import Image\n",
    "import numpy as np\n",
    "import random\n",
    "import string\n",
    "from skimage.io import imshow\n",
    "from sklearn.model_selection import train_test_split"
   ]
  },
  {
   "cell_type": "code",
   "execution_count": 9,
   "metadata": {},
   "outputs": [],
   "source": [
    "def id_generator(size=6, chars=string.digits + string.ascii_uppercase):\n",
    "    return ''.join(random.choice(chars) for _ in range(size))"
   ]
  },
  {
   "cell_type": "code",
   "execution_count": 10,
   "metadata": {},
   "outputs": [],
   "source": [
    "def captcha_gen(string_size, generator):\n",
    "    string = id_generator(string_size)\n",
    "    img = generator.generate_image(string)\n",
    "    pix = np.array(img)\n",
    "        \n",
    "    return pix, string"
   ]
  },
  {
   "cell_type": "code",
   "execution_count": 11,
   "metadata": {},
   "outputs": [],
   "source": [
    "def data_gen(size=10000, captcha_width=160, captcha_height=60, string_size=6):\n",
    "    image = ImageCaptcha(width=captcha_width, height=captcha_height)\n",
    "\n",
    "    char_set = list(string.digits + string.ascii_uppercase)\n",
    "    char_set_size = len(char_set)\n",
    "    \n",
    "# diccionaries for embedding    \n",
    "#     char2index = {x[0]: i for i, x in enumerate(char_set)}\n",
    "#     index2char = {v:k for k, v in char2index.items()}\n",
    "    \n",
    "    X = np.zeros(shape=(size,60,160,3), dtype='uint8')\n",
    "    y = np.zeros(shape=(size, string_size, char_set_size))\n",
    "    \n",
    "    for i in range(size):\n",
    "        X[i], string_ = captcha_gen(string_size, image)\n",
    "        for j, char in enumerate(string_):\n",
    "            k = char_set.index(char)\n",
    "            y[i,j,k] += 1\n",
    "            \n",
    "    y = np.reshape(y, (y.shape[0], y.shape[1]*y.shape[2]))\n",
    "    \n",
    "    X = X.astype('float32')\n",
    "    \n",
    "    \n",
    "    #X /= 255\n",
    "            \n",
    "    return X, y"
   ]
  },
  {
   "cell_type": "code",
   "execution_count": 12,
   "metadata": {},
   "outputs": [],
   "source": [
    "X, y = data_gen(string_size=4, size=15000)"
   ]
  },
  {
   "cell_type": "code",
   "execution_count": 21,
   "metadata": {},
   "outputs": [],
   "source": [
    "X_train, X_test, y_train, y_test = train_test_split(X, y, test_size=0.2, random_state=42)"
   ]
  },
  {
   "cell_type": "code",
   "execution_count": 22,
   "metadata": {},
   "outputs": [],
   "source": [
    "X_train /= 255\n",
    "X_test /= 255\n",
    "y_train /= 255\n",
    "y_test /= 255"
   ]
  },
  {
   "cell_type": "code",
   "execution_count": 23,
   "metadata": {},
   "outputs": [
    {
     "name": "stderr",
     "output_type": "stream",
     "text": [
      "/home/claudio/Documents/virtual_envs/deep_learning/lib/python3.5/site-packages/skimage/io/_plugins/matplotlib_plugin.py:51: FutureWarning: Conversion of the second argument of issubdtype from `float` to `np.floating` is deprecated. In future, it will be treated as `np.float64 == np.dtype(float).type`.\n",
      "  out_of_range_float = (np.issubdtype(image.dtype, np.float) and\n",
      "/home/claudio/Documents/virtual_envs/deep_learning/lib/python3.5/site-packages/matplotlib/axes/_base.py:1400: MatplotlibDeprecationWarning: The 'box-forced' keyword argument is deprecated since 2.2.\n",
      "  \" since 2.2.\", cbook.mplDeprecation)\n"
     ]
    },
    {
     "data": {
      "text/plain": [
       "<matplotlib.image.AxesImage at 0x7f2b2ad0fdd8>"
      ]
     },
     "execution_count": 23,
     "metadata": {},
     "output_type": "execute_result"
    },
    {
     "data": {
      "image/png": "[encoded data removed]",
      "text/plain": [
       "<Figure size 432x288 with 1 Axes>"
      ]
     },
     "metadata": {},
     "output_type": "display_data"
    }
   ],
   "source": [
    "imshow(X_train[8])"
   ]
  },
  {
   "cell_type": "code",
   "execution_count": 24,
   "metadata": {},
   "outputs": [],
   "source": [
    "np.save('data/train_inputs',X_train)\n",
    "np.save('data/train_targets',y_train)\n",
    "\n",
    "np.save('data/test_inputs',X_test)\n",
    "np.save('data/test_targets',y_test)"
   ]
  },
  {
   "cell_type": "code",
   "execution_count": 52,
   "metadata": {},
   "outputs": [],
   "source": []
  },
  {
   "cell_type": "code",
   "execution_count": null,
   "metadata": {},
   "outputs": [],
   "source": []
  }
 ],
 "metadata": {
  "kernelspec": {
   "display_name": "Python 3",
   "language": "python",
   "name": "python3"
  },
  "language_info": {
   "codemirror_mode": {
    "name": "ipython",
    "version": 3
   },
   "file_extension": ".py",
   "mimetype": "text/x-python",
   "name": "python",
   "nbconvert_exporter": "python",
   "pygments_lexer": "ipython3",
   "version": "3.5.2"
  }
 },
 "nbformat": 4,
 "nbformat_minor": 2
}
